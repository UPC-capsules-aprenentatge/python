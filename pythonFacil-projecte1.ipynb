{
  "cells": [
    {
      "cell_type": "code",
      "execution_count": 14,
      "metadata": {
        "colab": {
          "base_uri": "https://localhost:8080/"
        },
        "id": "kBajE7TrNpVx",
        "outputId": "054a9b00-ef99-4001-ffff-cff39ee7fcf8"
      },
      "outputs": [
        {
          "name": "stdout",
          "output_type": "stream",
          "text": [
            "{'id': 'cc-zero', 'nom': 'coca-cola zero', 'preu': 2, 'categoria': 'beguda'}\n",
            "{'id': 'cc', 'nom': 'coca-cola', 'preu': 2.1, 'categoria': 'beguda'}\n",
            "{'id': 'beer1', 'nom': 'cervesa A', 'preu': 3, 'categoria': 'beguda'}\n",
            "{'id': 'beer2', 'nom': 'cervesa B', 'preu': 3, 'categoria': 'beguda'}\n",
            "{'id': 'beer3', 'nom': 'cervesa C', 'preu': 3, 'categoria': 'beguda'}\n",
            "{'id': 'fanta', 'nom': 'fanta', 'preu': 1.5, 'categoria': 'beguda'}\n",
            "==========================================================\n",
            "{'id': 'oli1', 'nom': 'oli verge extra', 'preu': 20, 'categoria': 'olis'}\n",
            "{'id': 'oli2', 'nom': 'oli verge extra', 'preu': 22, 'categoria': 'olis'}\n",
            "==========================================================\n",
            "==========================================================\n"
          ]
        },
        {
          "data": {
            "text/plain": [
              "{'beguda', 'olis'}"
            ]
          },
          "execution_count": 14,
          "metadata": {},
          "output_type": "execute_result"
        }
      ],
      "source": [
        "def obtenir_productes_per_categoria(productes, categoria):\n",
        "    ## TO-DO\n",
        "\n",
        "def obtenir_categories(productes):\n",
        "    # TO-DO \n",
        "\n",
        "def obtenir_productes_ordenats_per_preu(productes):\n",
        "    # TO-DO\n",
        "\n",
        "\n",
        "\n",
        "\n",
        "\n",
        "\n",
        "productes = [\n",
        "                { \"id\": \"cc-zero\",\n",
        "                  \"nom\":\"coca-cola zero\",\n",
        "                  \"preu\": 2,\n",
        "                  \"categoria\": \"beguda\"\n",
        "                },\n",
        "                { \"id\": \"cc\",\n",
        "                  \"nom\":\"coca-cola\",\n",
        "                  \"preu\": 2.1,\n",
        "                  \"categoria\": \"beguda\"\n",
        "                },\n",
        "                { \"id\": \"beer1\",\n",
        "                  \"nom\":\"cervesa A\",\n",
        "                  \"preu\": 3,\n",
        "                  \"categoria\": \"beguda\"\n",
        "                },\n",
        "                { \"id\": \"beer2\",\n",
        "                  \"nom\":\"cervesa B\",\n",
        "                  \"preu\": 3,\n",
        "                  \"categoria\": \"beguda\"\n",
        "                },\n",
        "                { \"id\": \"oli1\",\n",
        "                  \"nom\":\"oli verge extra\",\n",
        "                  \"preu\": 20,\n",
        "                  \"categoria\": \"olis\"\n",
        "                },\n",
        "                { \"id\": \"beer3\",\n",
        "                  \"nom\":\"cervesa C\",\n",
        "                  \"preu\": 3,\n",
        "                  \"categoria\": \"beguda\"\n",
        "                },\n",
        "                { \"id\": \"oli2\",\n",
        "                  \"nom\":\"oli verge extra\",\n",
        "                  \"preu\": 22,\n",
        "                  \"categoria\": \"olis\"\n",
        "                },\n",
        "                { \"id\": \"fanta\",\n",
        "                  \"nom\":\"fanta\",\n",
        "                  \"preu\": 1.5,\n",
        "                  \"categoria\": \"beguda\"\n",
        "                }\n",
        "                ]\n",
        "\n",
        "resultat = obtenir_productes_per_categoria(productes, \"beguda\")\n",
        "for producte in resultat:\n",
        "    print(producte)\n",
        "\n",
        "print(\"==========================================================\")\n",
        "\n",
        "resultat = obtenir_productes_per_categoria(productes, \"olis\")\n",
        "for producte in resultat:\n",
        "    print(producte)\n",
        "\n",
        "print(\"==========================================================\")\n",
        "\n",
        "resultat = obtenir_productes_ordenats_per_preu(productes)\n",
        "resultat\n",
        "\n",
        "print(\"==========================================================\")\n",
        "\n",
        "categories = obtenir_categories(productes)\n",
        "categories\n",
        "\n"
      ]
    },
    {
      "cell_type": "code",
      "execution_count": 27,
      "metadata": {
        "colab": {
          "base_uri": "https://localhost:8080/"
        },
        "id": "S-a0BHjtPd1i",
        "outputId": "69e7a1eb-6bf0-4b18-f2c2-b6cd77695d80"
      },
      "outputs": [
        {
          "name": "stdout",
          "output_type": "stream",
          "text": [
            "===========================\n",
            "{'id': 'wine2', 'nom': 'Albariño', 'preu': 14, 'categoria': 'begudes'}\n",
            "===========================\n",
            "{'id': 'wine1', 'nom': 'Blanc Pescador', 'preu': 10, 'categoria': 'begudes'}\n",
            "===========================\n",
            "{'id': 'oli5', 'nom': 'oli verge extra', 'preu': 32, 'categoria': 'olis'}\n",
            "===========================\n"
          ]
        }
      ],
      "source": [
        "nouProducte1 =  { \"id\": \"oli5\",\n",
        "                  \"nom\":\"oli verge extra\",\n",
        "                  \"preu\": 32,\n",
        "                  \"categoria\": \"olis\"\n",
        "                }\n",
        "\n",
        "nouProducte2 =  { \"id\": \"wine1\",\n",
        "                  \"nom\":\"Blanc Pescador\",\n",
        "                  \"preu\": 10,\n",
        "                  \"categoria\": \"begudes\"\n",
        "                }\n",
        "\n",
        "nouProducte3 =  { \"id\": \"wine2\",\n",
        "                  \"nom\":\"Albariño\",\n",
        "                  \"preu\": 14,\n",
        "                  \"categoria\": \"begudes\"\n",
        "                }\n",
        "\n",
        "\n",
        "pila = []\n",
        "pila.append(nouProducte1)\n",
        "pila.append(nouProducte2)\n",
        "pila.append(nouProducte3)\n",
        "\n",
        "print(\"===========================\")\n",
        "\n",
        "# LIFO\n",
        "producte1 = pila.pop();\n",
        "producte2 = pila.pop();\n",
        "producte3 = pila.pop();\n",
        "\n",
        "print(producte1)\n",
        "print(\"===========================\")\n",
        "print(producte2)\n",
        "print(\"===========================\")\n",
        "print(producte3)\n",
        "print(\"===========================\")\n"
      ]
    },
    {
      "cell_type": "code",
      "execution_count": 29,
      "metadata": {
        "colab": {
          "base_uri": "https://localhost:8080/"
        },
        "id": "A4VvRWZdUQ5Y",
        "outputId": "81d10259-b05a-420f-f5c8-adb3c3ad4cb8"
      },
      "outputs": [
        {
          "name": "stdout",
          "output_type": "stream",
          "text": [
            "===========================\n",
            "{'id': 'oli5', 'nom': 'oli verge extra', 'preu': 32, 'categoria': 'olis'}\n",
            "===========================\n",
            "{'id': 'wine1', 'nom': 'Blanc Pescador', 'preu': 10, 'categoria': 'begudes'}\n",
            "===========================\n",
            "{'id': 'wine2', 'nom': 'Albariño', 'preu': 14, 'categoria': 'begudes'}\n",
            "===========================\n"
          ]
        }
      ],
      "source": [
        "# Definir els productes\n",
        "nouProducte1 = {\n",
        "    \"id\": \"oli5\",\n",
        "    \"nom\": \"oli verge extra\",\n",
        "    \"preu\": 32,\n",
        "    \"categoria\": \"olis\"\n",
        "}\n",
        "\n",
        "nouProducte2 = {\n",
        "    \"id\": \"wine1\",\n",
        "    \"nom\": \"Blanc Pescador\",\n",
        "    \"preu\": 10,\n",
        "    \"categoria\": \"begudes\"\n",
        "}\n",
        "\n",
        "nouProducte3 = {\n",
        "    \"id\": \"wine2\",\n",
        "    \"nom\": \"Albariño\",\n",
        "    \"preu\": 14,\n",
        "    \"categoria\": \"begudes\"\n",
        "}\n",
        "\n",
        "cola = []\n",
        "cola.append(nouProducte1)\n",
        "cola.append(nouProducte2)\n",
        "cola.append(nouProducte3)\n",
        "\n",
        "print(\"===========================\")\n",
        "\n",
        "# FIFO\n",
        "producte1 = cola.pop(0)\n",
        "producte2 = cola.pop(0)\n",
        "producte3 = cola.pop(0)\n",
        "\n",
        "print(producte1)\n",
        "print(\"===========================\")\n",
        "print(producte2)\n",
        "print(\"===========================\")\n",
        "print(producte3)\n",
        "print(\"===========================\")\n"
      ]
    }
  ],
  "metadata": {
    "colab": {
      "provenance": []
    },
    "kernelspec": {
      "display_name": "Python 3",
      "name": "python3"
    },
    "language_info": {
      "name": "python"
    }
  },
  "nbformat": 4,
  "nbformat_minor": 0
}
