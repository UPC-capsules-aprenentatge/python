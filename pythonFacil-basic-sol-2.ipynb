{
  "nbformat": 4,
  "nbformat_minor": 0,
  "metadata": {
    "colab": {
      "provenance": []
    },
    "kernelspec": {
      "name": "python3",
      "display_name": "Python 3"
    },
    "language_info": {
      "name": "python"
    }
  },
  "cells": [
    {
      "cell_type": "code",
      "source": [
        "def get_product_info():\n",
        "    \"\"\"Returns a tuple with id, name, price\"\"\"\n",
        "    id = \"coca-cola1\"\n",
        "    name = \"coca-cola\"\n",
        "    price = 3\n",
        "    return id, name, price # tupla\n",
        "\n",
        "\n",
        "product = get_product_info()\n",
        "\n",
        "print(product)\n",
        "print(type(product))\n",
        "\n",
        "id, name, price = product\n",
        "print(f\"id:{id} name: {name}, price: {price}\")"
      ],
      "metadata": {
        "colab": {
          "base_uri": "https://localhost:8080/"
        },
        "id": "qiVihh0BW3tg",
        "outputId": "099e672a-b2c6-47c2-ca5a-305766ac951c"
      },
      "execution_count": 12,
      "outputs": [
        {
          "output_type": "stream",
          "name": "stdout",
          "text": [
            "('coca-cola1', 'coca-cola', 3)\n",
            "<class 'tuple'>\n",
            "id:coca-cola1 name: coca-cola, price: 3\n"
          ]
        }
      ]
    },
    {
      "cell_type": "code",
      "source": [
        "# funció clàssica\n",
        "def square(x):\n",
        "    return x * x\n",
        "\n",
        "def square2():\n",
        "    # Retorna una funció lambda\n",
        "    return lambda x: x * x\n",
        "\n",
        "# lambda function\n",
        "square_lambda = lambda x: x * x\n",
        "\n",
        "print(square(5))\n",
        "print(square_lambda(5))\n",
        "\n",
        "square_lambda = square2()\n",
        "square_lambda(5)"
      ],
      "metadata": {
        "colab": {
          "base_uri": "https://localhost:8080/"
        },
        "id": "hBNiu0EsZDH2",
        "outputId": "143eb6aa-a34a-4533-927e-391f65a2b9fa"
      },
      "execution_count": 17,
      "outputs": [
        {
          "output_type": "stream",
          "name": "stdout",
          "text": [
            "25\n",
            "25\n"
          ]
        },
        {
          "output_type": "execute_result",
          "data": {
            "text/plain": [
              "25"
            ]
          },
          "metadata": {},
          "execution_count": 17
        }
      ]
    },
    {
      "cell_type": "code",
      "source": [
        "fresh_products = [\n",
        "    (\"Poma\", 1.2),\n",
        "    (\"Llet\", 2.5),\n",
        "    (\"Formatge\", 5.0),\n",
        "    (\"Pa\", 1.8, )\n",
        "]\n",
        "\n",
        "sorted_products = sorted(fresh_products, key=lambda product: product[1], reverse=True)\n",
        "sorted_products\n"
      ],
      "metadata": {
        "colab": {
          "base_uri": "https://localhost:8080/"
        },
        "id": "fnhLqGElYdXm",
        "outputId": "dadbd01e-1334-487c-9b3d-f4bdf104698c"
      },
      "execution_count": 14,
      "outputs": [
        {
          "output_type": "execute_result",
          "data": {
            "text/plain": [
              "[('Formatge', 5.0), ('Llet', 2.5), ('Pa', 1.8), ('Poma', 1.2)]"
            ]
          },
          "metadata": {},
          "execution_count": 14
        }
      ]
    },
    {
      "cell_type": "code",
      "source": [
        "celsius = [0, 10, 20, 30, 40]\n",
        "\n",
        "to_fahrenheit = lambda c: (c * 9/5) + 32\n",
        "\n",
        "fahrenheit = list(map(to_fahrenheit, celsius))\n",
        "\n",
        "print(fahrenheit)"
      ],
      "metadata": {
        "colab": {
          "base_uri": "https://localhost:8080/"
        },
        "id": "FXutBVEPavHr",
        "outputId": "fe686e79-b948-4cbd-afc4-6cdca0175cce"
      },
      "execution_count": 18,
      "outputs": [
        {
          "output_type": "stream",
          "name": "stdout",
          "text": [
            "[32.0, 50.0, 68.0, 86.0, 104.0]\n"
          ]
        }
      ]
    },
    {
      "cell_type": "code",
      "execution_count": 11,
      "metadata": {
        "colab": {
          "base_uri": "https://localhost:8080/"
        },
        "id": "aseww6KTO_vw",
        "outputId": "7a54f570-3588-435a-be02-9be54e03bd30"
      },
      "outputs": [
        {
          "output_type": "stream",
          "name": "stdout",
          "text": [
            "coca1 - coca-cola zero - 3\n",
            "==================================\n",
            "id: coca1\n",
            "name: coca-cola zero\n",
            "price: 3\n",
            "This product does not have a specific expiration date\n",
            "==================================\n",
            "Lettuce - Lettuce ... - 0.5\n",
            "2025-01-27\n"
          ]
        }
      ],
      "source": [
        "from datetime import datetime, timedelta\n",
        "\n",
        "class Product:\n",
        "  def __init__(self, id, name, price):\n",
        "    self.id = id\n",
        "    self.name = name\n",
        "    self.price = price\n",
        "\n",
        "  def __str__(self):\n",
        "      return f\"{self.id} - {self.name} - {self.price}\"\n",
        "\n",
        "  def calculate_expiry(self):\n",
        "    return \"This product does not have a specific expiration date\"\n",
        "\n",
        "\n",
        "\n",
        "class FreshProduct(Product):\n",
        "  def __init__(self, id, name, price, production_date, expiration_days):\n",
        "        super().__init__(id, name, price)\n",
        "        self.production_date = datetime.strptime(production_date, \"%d-%m-%Y\")\n",
        "        self.expiration_days = expiration_days\n",
        "\n",
        "  def calculate_expiry(self):\n",
        "        expiry_date = self.production_date + timedelta(days=self.expiration_days)\n",
        "        return expiry_date.date()\n",
        "\n",
        "class NonFreshProduct(Product):\n",
        "  pass\n",
        "\n",
        "\n",
        "p1 = NonFreshProduct(\"coca1\", \"coca-cola zero\", 3)\n",
        "print(p1)\n",
        "print(\"==================================\")\n",
        "print(\"id: \"+p1.id)\n",
        "print(\"name: \"+p1.name)\n",
        "print(\"price: \"+str(p1.price))\n",
        "print(p1.calculate_expiry())\n",
        "print(\"==================================\")\n",
        "\n",
        "p2 = FreshProduct(\"Lettuce\", \"Lettuce ...\", 0.5, \"20-01-2025\", 7)\n",
        "print(p2)\n",
        "print(p2.calculate_expiry())\n",
        "\n",
        "\n"
      ]
    }
  ]
}